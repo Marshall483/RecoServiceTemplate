{
 "cells": [
  {
   "cell_type": "code",
   "execution_count": 2,
   "id": "9c51c8d04486eb4a",
   "metadata": {
    "ExecuteTime": {
     "end_time": "2023-12-05T23:26:23.970582Z",
     "start_time": "2023-12-05T23:26:21.176265600Z"
    },
    "collapsed": false
   },
   "outputs": [
    {
     "name": "stderr",
     "output_type": "stream",
     "text": [
      "C:\\Users\\Happy\\anaconda3\\envs\\hated_ml\\lib\\site-packages\\lightfm\\_lightfm_fast.py:9: UserWarning: LightFM was compiled without OpenMP support. Only a single thread will be used.\n",
      "  warnings.warn(\n"
     ]
    },
    {
     "data": {
      "text/plain": [
       "False"
      ]
     },
     "execution_count": 2,
     "metadata": {},
     "output_type": "execute_result"
    }
   ],
   "source": [
    "import typing as tp\n",
    "\n",
    "import dill\n",
    "import implicit\n",
    "import numpy as np\n",
    "import threadpoolctl\n",
    "\n",
    "threadpoolctl.threadpool_limits(1, \"blas\")\n",
    "import optuna\n",
    "import pandas as pd\n",
    "from implicit.als import AlternatingLeastSquares\n",
    "from optuna.samplers import TPESampler\n",
    "from rectools import Columns\n",
    "from rectools.dataset import Dataset\n",
    "from rectools.metrics import MAP\n",
    "from rectools.models import (\n",
    "    ImplicitALSWrapperModel,\n",
    ")\n",
    "\n",
    "optuna.logging.set_verbosity(10)\n",
    "implicit.gpu.HAS_CUDA"
   ]
  },
  {
   "cell_type": "markdown",
   "id": "298d4b3c6b1dfa14",
   "metadata": {
    "collapsed": false
   },
   "source": [
    "### Загрузка данных"
   ]
  },
  {
   "cell_type": "code",
   "execution_count": 3,
   "id": "ba13a50a625d2b3c",
   "metadata": {
    "ExecuteTime": {
     "end_time": "2023-12-05T23:26:25.508019700Z",
     "start_time": "2023-12-05T23:26:23.970319300Z"
    },
    "collapsed": false
   },
   "outputs": [],
   "source": [
    "url = 'https://github.com/irsafilo/KION_DATASET/raw/f69775be31fa5779907cf0a92ddedb70037fb5ae/data_original.zip'\n",
    "request = requests.get(url, stream=True)\n",
    "\n",
    "with open('kion.zip', 'wb') as fd:\n",
    "  total_sipe_in_bytes = int(request.headers.get('Content-Length', 0))\n",
    "  progress_bar = tqdm(desc='KION dataset download', total=total_sipe_in_bytes, unit='iB', unit_scale=True)\n",
    "  for chunk in request.iter_content(chunk_size= 2 ** 20):\n",
    "    progress_bar.update(len(chunk))\n",
    "    fd.write(chunk)"
   ]
  },
  {
   "cell_type": "code",
   "execution_count": null,
   "metadata": {},
   "outputs": [],
   "source": [
    "files = zf.ZipFile('kion.zip', 'r')\n",
    "files.extractall()\n",
    "files.close()"
   ]
  },
  {
   "cell_type": "code",
   "execution_count": null,
   "metadata": {},
   "outputs": [],
   "source": [
    "idf = pd.read_csv(\"/content/data_original/interactions.csv\", parse_dates=[\"last_watch_dt\"])\n",
    "idf.rename(columns={\"last_watch_dt\": rectools.Columns.Datetime, \"total_dur\": rectools.Columns.Weight}, inplace=True)\n",
    "interactions = Interactions(idf)"
   ]
  },
  {
   "cell_type": "code",
   "execution_count": 4,
   "id": "bbda33a61aea0909",
   "metadata": {
    "ExecuteTime": {
     "end_time": "2023-12-05T23:26:25.795835200Z",
     "start_time": "2023-12-05T23:26:25.509195800Z"
    },
    "collapsed": false
   },
   "outputs": [],
   "source": [
    "Columns.Datetime = 'last_watch_dt'\n",
    "interactions[Columns.Datetime] = pd.to_datetime(interactions[Columns.Datetime], format='%Y-%m-%d')\n",
    "\n",
    "interactions[Columns.Weight] = np.where(interactions['watched_pct'] > 10, 3, 1)"
   ]
  },
  {
   "cell_type": "markdown",
   "id": "615e9f23dcab41dd",
   "metadata": {
    "collapsed": false
   },
   "source": [
    "### Предобработка данных"
   ]
  },
  {
   "cell_type": "code",
   "execution_count": 5,
   "id": "e51538b619ac2172",
   "metadata": {
    "ExecuteTime": {
     "end_time": "2023-12-05T23:26:26.620009400Z",
     "start_time": "2023-12-05T23:26:25.796391300Z"
    },
    "collapsed": false
   },
   "outputs": [],
   "source": [
    "max_date = interactions[Columns.Datetime].max()\n",
    "train = interactions[interactions[Columns.Datetime] < max_date - pd.Timedelta(days=7)].copy()\n",
    "test = interactions[interactions[Columns.Datetime] >= max_date - pd.Timedelta(days=7)].copy()"
   ]
  },
  {
   "cell_type": "code",
   "execution_count": null,
   "metadata": {},
   "outputs": [],
   "source": [
    "train.drop(train.query(\"total_dur < 300\").index, inplace=True)"
   ]
  },
  {
   "cell_type": "code",
   "execution_count": null,
   "metadata": {},
   "outputs": [],
   "source": [
    "cold_users = set(test[Columns.User]) - set(train[Columns.User])\n",
    "test.drop(test[test[Columns.User].isin(cold_users)].index, inplace=True)"
   ]
  },
  {
   "cell_type": "markdown",
   "id": "eb9f03d9d4d7c7bb",
   "metadata": {
    "collapsed": false
   },
   "source": [
    "### Выбор фичей как из лекции"
   ]
  },
  {
   "cell_type": "code",
   "execution_count": 6,
   "id": "a2c4a72a72e1601a",
   "metadata": {
    "ExecuteTime": {
     "end_time": "2023-12-05T23:26:26.634010500Z",
     "start_time": "2023-12-05T23:26:26.620329500Z"
    },
    "collapsed": false
   },
   "outputs": [],
   "source": [
    "def get_user_features(users: pd.DataFrame, interactions: pd.DataFrame, features: tp.List[str]):\n",
    "    users.fillna(\"Unknown\", inplace=True)\n",
    "    users = users.loc[users[Columns.User].isin(interactions[Columns.User])].copy()\n",
    "    user_features_frames = []\n",
    "    for feature in features:\n",
    "        feature_frame = users.reindex(columns=[Columns.User, feature])\n",
    "        feature_frame.columns = [\"id\", \"value\"]\n",
    "        feature_frame[\"feature\"] = feature\n",
    "        user_features_frames.append(feature_frame)\n",
    "    user_features = pd.concat(user_features_frames)\n",
    "    return user_features\n",
    "\n",
    "def get_item_features(items: pd.DataFrame, interactions: pd.DataFrame):\n",
    "    items = items.loc[items[Columns.Item].isin(interactions[Columns.Item])].copy()\n",
    "    items[\"genre\"] = items[\"genres\"].str.lower().str.replace(\", \", \",\", regex=False).str.split(\",\")\n",
    "    genre_feature = items[[\"item_id\", \"genre\"]].explode(\"genre\")\n",
    "    genre_feature.columns = [\"id\", \"value\"]\n",
    "    genre_feature[\"feature\"] = \"genre\"\n",
    "    content_feature = items.reindex(columns=[Columns.Item, \"content_type\"])\n",
    "    content_feature.columns = [\"id\", \"value\"]\n",
    "    content_feature[\"feature\"] = \"content_type\"\n",
    "    item_features = pd.concat((genre_feature, content_feature))\n",
    "    return item_features"
   ]
  },
  {
   "cell_type": "code",
   "execution_count": 8,
   "id": "cf9a0c27ee0125aa",
   "metadata": {
    "ExecuteTime": {
     "end_time": "2023-12-05T23:26:26.827010600Z",
     "start_time": "2023-12-05T23:26:26.651009500Z"
    },
    "collapsed": false
   },
   "outputs": [],
   "source": [
    "user_features = get_user_features(users, train, [\"sex\", \"age\", \"income\"])\n",
    "item_features = get_item_features(items, train)"
   ]
  },
  {
   "cell_type": "markdown",
   "id": "59e4090975579395",
   "metadata": {
    "collapsed": false
   },
   "source": [
    "### Создадим датасет из удобный для ректулз и map@10 "
   ]
  },
  {
   "cell_type": "code",
   "execution_count": 9,
   "id": "8041af1e8a8af8d0",
   "metadata": {
    "ExecuteTime": {
     "end_time": "2023-12-05T23:26:27.281010900Z",
     "start_time": "2023-12-05T23:26:26.827010600Z"
    },
    "collapsed": false
   },
   "outputs": [],
   "source": [
    "dataset = Dataset.construct(\n",
    "    interactions_df=train,\n",
    "    user_features_df=user_features,\n",
    "    cat_user_features=[\"sex\", \"age\", \"income\"],\n",
    "    item_features_df=item_features,\n",
    "    cat_item_features=[\"genre\", \"content_type\"],\n",
    ")\n",
    "\n",
    "metric = MAP(k=10)\n",
    "K_RECOS = 10\n",
    "RANDOM_STATE = 42"
   ]
  },
  {
   "cell_type": "markdown",
   "id": "627787d5597156e7",
   "metadata": {
    "collapsed": false
   },
   "source": [
    "# Тюнинг модели здесь"
   ]
  },
  {
   "cell_type": "code",
   "execution_count": 11,
   "id": "99e3bc8603e11c6c",
   "metadata": {
    "ExecuteTime": {
     "end_time": "2023-12-05T23:19:31.118481500Z",
     "start_time": "2023-12-05T23:19:31.101480400Z"
    },
    "collapsed": false
   },
   "outputs": [],
   "source": [
    "def als_optuna_objective(trial):\n",
    "    test_users = test[Columns.User].unique()\n",
    "    factors = trial.suggest_categorical(\"n_factors\", [8, 16, 32])\n",
    "    fit_features_together = trial.suggest_categorical(\"fit_features_together\", [True, False])\n",
    "    regularization = trial.suggest_float('regularization', 0.001, 0.1, log=True)\n",
    "    iterations = trial.suggest_int('iterations', 5, 20)\n",
    "\n",
    "    model = ImplicitALSWrapperModel(\n",
    "        model=AlternatingLeastSquares(\n",
    "            factors=factors,\n",
    "            random_state=RANDOM_STATE,\n",
    "            regularization=regularization,\n",
    "            iterations=iterations,\n",
    "            num_threads=24,\n",
    "        ),\n",
    "        fit_features_together=fit_features_together,\n",
    "    )\n",
    "\n",
    "    model.fit(dataset)\n",
    "    recos = model.recommend(\n",
    "        users=test_users,\n",
    "        dataset=dataset,\n",
    "        k=K_RECOS,\n",
    "        filter_viewed=True,\n",
    "    )\n",
    "    mtrc = metric.calc_per_user(recos, test)\n",
    "    return mtrc.mean()"
   ]
  },
  {
   "cell_type": "code",
   "execution_count": 13,
   "id": "10985e20aefdce80",
   "metadata": {
    "ExecuteTime": {
     "end_time": "2023-12-05T23:23:15.923489800Z",
     "start_time": "2023-12-05T23:23:15.877491300Z"
    },
    "collapsed": false
   },
   "outputs": [
    {
     "name": "stdout",
     "output_type": "stream",
     "text": [
      "Лучшее значение MAP@10: 0.07741930704805924\n",
      "Лучшие параметры: {'n_factors': 8, 'fit_features_together': True, 'regularization': 0.02140145192621051, 'iterations': 10}\n"
     ]
    }
   ],
   "source": [
    "print(f'Лучшее значение MAP@10: {study.best_value}')\n",
    "print(f'Лучшие параметры: {study.best_params}')"
   ]
  },
  {
   "cell_type": "markdown",
   "id": "7f22c76ee044377d",
   "metadata": {
    "collapsed": false
   },
   "source": [
    "## Лучшие параметры найдены, обучим на них модель"
   ]
  },
  {
   "cell_type": "code",
   "execution_count": null,
   "id": "a69d1b27013c0fc0",
   "metadata": {
    "collapsed": false
   },
   "outputs": [],
   "source": [
    "user_features = get_user_features(users, interactions, [\"sex\", \"age\", \"income\"])\n",
    "item_features = get_item_features(items, interactions)\n",
    "\n",
    "dataset = Dataset.construct(\n",
    "    interactions_df=interactions,\n",
    "    user_features_df=user_features,\n",
    "    cat_user_features=[\"sex\", \"age\", \"income\"],\n",
    "    item_features_df=item_features,\n",
    "    cat_item_features=[\"genre\", \"content_type\"],\n",
    ")\n",
    "\n",
    "model = ImplicitALSWrapperModel(\n",
    "    AlternatingLeastSquares(\n",
    "        factors=16,\n",
    "        random_state=RANDOM_STATE,\n",
    "        regularization=0.00113,\n",
    "        iterations=11,\n",
    "        num_threads=24,\n",
    "    ),\n",
    "    fit_features_together=True\n",
    ")\n",
    "\n",
    "model.fit(dataset)"
   ]
  },
  {
   "cell_type": "code",
   "execution_count": null,
   "id": "bfc47443938af578",
   "metadata": {
    "collapsed": false
   },
   "outputs": [],
   "source": [
    "with open(f'asl.dill', 'wb') as f:\n",
    "    dill.dump(model, f)"
   ]
  },
  {
   "cell_type": "code",
   "execution_count": null,
   "id": "12f8b2fb2002f925",
   "metadata": {
    "collapsed": false
   },
   "outputs": [],
   "source": [
    "with open('dataset.dill', 'wb') as f:\n",
    "    dill.dump(dataset, f)"
   ]
  }
 ],
 "metadata": {
  "kernelspec": {
   "display_name": "Python 3",
   "language": "python",
   "name": "python3"
  },
  "language_info": {
   "codemirror_mode": {
    "name": "ipython",
    "version": 2
   },
   "file_extension": ".py",
   "mimetype": "text/x-python",
   "name": "python",
   "nbconvert_exporter": "python",
   "pygments_lexer": "ipython2",
   "version": "2.7.6"
  }
 },
 "nbformat": 4,
 "nbformat_minor": 5
}
