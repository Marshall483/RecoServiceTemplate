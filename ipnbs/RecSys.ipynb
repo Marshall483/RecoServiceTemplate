{
  "nbformat": 4,
  "nbformat_minor": 0,
  "metadata": {
    "colab": {
      "provenance": []
    },
    "kernelspec": {
      "name": "python3",
      "display_name": "Python 3"
    },
    "language_info": {
      "name": "python"
    },
    "widgets": {
      "application/vnd.jupyter.widget-state+json": {
        "0fa2f7d611e54b4aae2058f81667ca01": {
          "model_module": "@jupyter-widgets/controls",
          "model_name": "HBoxModel",
          "model_module_version": "1.5.0",
          "state": {
            "_dom_classes": [],
            "_model_module": "@jupyter-widgets/controls",
            "_model_module_version": "1.5.0",
            "_model_name": "HBoxModel",
            "_view_count": null,
            "_view_module": "@jupyter-widgets/controls",
            "_view_module_version": "1.5.0",
            "_view_name": "HBoxView",
            "box_style": "",
            "children": [
              "IPY_MODEL_86c403f943924066a7aa9be430aae8ff",
              "IPY_MODEL_ec0142442543486fa7f7fdea99162c99",
              "IPY_MODEL_572cd42d1ee2488ead371029cb09d734"
            ],
            "layout": "IPY_MODEL_5a5e96af48c5418bb305678445e567e5"
          }
        },
        "86c403f943924066a7aa9be430aae8ff": {
          "model_module": "@jupyter-widgets/controls",
          "model_name": "HTMLModel",
          "model_module_version": "1.5.0",
          "state": {
            "_dom_classes": [],
            "_model_module": "@jupyter-widgets/controls",
            "_model_module_version": "1.5.0",
            "_model_name": "HTMLModel",
            "_view_count": null,
            "_view_module": "@jupyter-widgets/controls",
            "_view_module_version": "1.5.0",
            "_view_name": "HTMLView",
            "description": "",
            "description_tooltip": null,
            "layout": "IPY_MODEL_0b4d64f703704efdacc2808d7b3700cb",
            "placeholder": "​",
            "style": "IPY_MODEL_df3a2fc5fc6f490e96923a133b0456b3",
            "value": "KION dataset download: 100%"
          }
        },
        "ec0142442543486fa7f7fdea99162c99": {
          "model_module": "@jupyter-widgets/controls",
          "model_name": "FloatProgressModel",
          "model_module_version": "1.5.0",
          "state": {
            "_dom_classes": [],
            "_model_module": "@jupyter-widgets/controls",
            "_model_module_version": "1.5.0",
            "_model_name": "FloatProgressModel",
            "_view_count": null,
            "_view_module": "@jupyter-widgets/controls",
            "_view_module_version": "1.5.0",
            "_view_name": "ProgressView",
            "bar_style": "",
            "description": "",
            "description_tooltip": null,
            "layout": "IPY_MODEL_6cbed0a325854c739895de8175939e53",
            "max": 78795295,
            "min": 0,
            "orientation": "horizontal",
            "style": "IPY_MODEL_1a392c42dc6b4f3b8c340ab240389258",
            "value": 78795295
          }
        },
        "572cd42d1ee2488ead371029cb09d734": {
          "model_module": "@jupyter-widgets/controls",
          "model_name": "HTMLModel",
          "model_module_version": "1.5.0",
          "state": {
            "_dom_classes": [],
            "_model_module": "@jupyter-widgets/controls",
            "_model_module_version": "1.5.0",
            "_model_name": "HTMLModel",
            "_view_count": null,
            "_view_module": "@jupyter-widgets/controls",
            "_view_module_version": "1.5.0",
            "_view_name": "HTMLView",
            "description": "",
            "description_tooltip": null,
            "layout": "IPY_MODEL_93b48817b3b644d4970052ff67f48d03",
            "placeholder": "​",
            "style": "IPY_MODEL_ae561cbea78c46ffbe904496cd5fa24e",
            "value": " 78.8M/78.8M [00:20&lt;00:00, 211MiB/s]"
          }
        },
        "5a5e96af48c5418bb305678445e567e5": {
          "model_module": "@jupyter-widgets/base",
          "model_name": "LayoutModel",
          "model_module_version": "1.2.0",
          "state": {
            "_model_module": "@jupyter-widgets/base",
            "_model_module_version": "1.2.0",
            "_model_name": "LayoutModel",
            "_view_count": null,
            "_view_module": "@jupyter-widgets/base",
            "_view_module_version": "1.2.0",
            "_view_name": "LayoutView",
            "align_content": null,
            "align_items": null,
            "align_self": null,
            "border": null,
            "bottom": null,
            "display": null,
            "flex": null,
            "flex_flow": null,
            "grid_area": null,
            "grid_auto_columns": null,
            "grid_auto_flow": null,
            "grid_auto_rows": null,
            "grid_column": null,
            "grid_gap": null,
            "grid_row": null,
            "grid_template_areas": null,
            "grid_template_columns": null,
            "grid_template_rows": null,
            "height": null,
            "justify_content": null,
            "justify_items": null,
            "left": null,
            "margin": null,
            "max_height": null,
            "max_width": null,
            "min_height": null,
            "min_width": null,
            "object_fit": null,
            "object_position": null,
            "order": null,
            "overflow": null,
            "overflow_x": null,
            "overflow_y": null,
            "padding": null,
            "right": null,
            "top": null,
            "visibility": null,
            "width": null
          }
        },
        "0b4d64f703704efdacc2808d7b3700cb": {
          "model_module": "@jupyter-widgets/base",
          "model_name": "LayoutModel",
          "model_module_version": "1.2.0",
          "state": {
            "_model_module": "@jupyter-widgets/base",
            "_model_module_version": "1.2.0",
            "_model_name": "LayoutModel",
            "_view_count": null,
            "_view_module": "@jupyter-widgets/base",
            "_view_module_version": "1.2.0",
            "_view_name": "LayoutView",
            "align_content": null,
            "align_items": null,
            "align_self": null,
            "border": null,
            "bottom": null,
            "display": null,
            "flex": null,
            "flex_flow": null,
            "grid_area": null,
            "grid_auto_columns": null,
            "grid_auto_flow": null,
            "grid_auto_rows": null,
            "grid_column": null,
            "grid_gap": null,
            "grid_row": null,
            "grid_template_areas": null,
            "grid_template_columns": null,
            "grid_template_rows": null,
            "height": null,
            "justify_content": null,
            "justify_items": null,
            "left": null,
            "margin": null,
            "max_height": null,
            "max_width": null,
            "min_height": null,
            "min_width": null,
            "object_fit": null,
            "object_position": null,
            "order": null,
            "overflow": null,
            "overflow_x": null,
            "overflow_y": null,
            "padding": null,
            "right": null,
            "top": null,
            "visibility": null,
            "width": null
          }
        },
        "df3a2fc5fc6f490e96923a133b0456b3": {
          "model_module": "@jupyter-widgets/controls",
          "model_name": "DescriptionStyleModel",
          "model_module_version": "1.5.0",
          "state": {
            "_model_module": "@jupyter-widgets/controls",
            "_model_module_version": "1.5.0",
            "_model_name": "DescriptionStyleModel",
            "_view_count": null,
            "_view_module": "@jupyter-widgets/base",
            "_view_module_version": "1.2.0",
            "_view_name": "StyleView",
            "description_width": ""
          }
        },
        "6cbed0a325854c739895de8175939e53": {
          "model_module": "@jupyter-widgets/base",
          "model_name": "LayoutModel",
          "model_module_version": "1.2.0",
          "state": {
            "_model_module": "@jupyter-widgets/base",
            "_model_module_version": "1.2.0",
            "_model_name": "LayoutModel",
            "_view_count": null,
            "_view_module": "@jupyter-widgets/base",
            "_view_module_version": "1.2.0",
            "_view_name": "LayoutView",
            "align_content": null,
            "align_items": null,
            "align_self": null,
            "border": null,
            "bottom": null,
            "display": null,
            "flex": null,
            "flex_flow": null,
            "grid_area": null,
            "grid_auto_columns": null,
            "grid_auto_flow": null,
            "grid_auto_rows": null,
            "grid_column": null,
            "grid_gap": null,
            "grid_row": null,
            "grid_template_areas": null,
            "grid_template_columns": null,
            "grid_template_rows": null,
            "height": null,
            "justify_content": null,
            "justify_items": null,
            "left": null,
            "margin": null,
            "max_height": null,
            "max_width": null,
            "min_height": null,
            "min_width": null,
            "object_fit": null,
            "object_position": null,
            "order": null,
            "overflow": null,
            "overflow_x": null,
            "overflow_y": null,
            "padding": null,
            "right": null,
            "top": null,
            "visibility": null,
            "width": null
          }
        },
        "1a392c42dc6b4f3b8c340ab240389258": {
          "model_module": "@jupyter-widgets/controls",
          "model_name": "ProgressStyleModel",
          "model_module_version": "1.5.0",
          "state": {
            "_model_module": "@jupyter-widgets/controls",
            "_model_module_version": "1.5.0",
            "_model_name": "ProgressStyleModel",
            "_view_count": null,
            "_view_module": "@jupyter-widgets/base",
            "_view_module_version": "1.2.0",
            "_view_name": "StyleView",
            "bar_color": null,
            "description_width": ""
          }
        },
        "93b48817b3b644d4970052ff67f48d03": {
          "model_module": "@jupyter-widgets/base",
          "model_name": "LayoutModel",
          "model_module_version": "1.2.0",
          "state": {
            "_model_module": "@jupyter-widgets/base",
            "_model_module_version": "1.2.0",
            "_model_name": "LayoutModel",
            "_view_count": null,
            "_view_module": "@jupyter-widgets/base",
            "_view_module_version": "1.2.0",
            "_view_name": "LayoutView",
            "align_content": null,
            "align_items": null,
            "align_self": null,
            "border": null,
            "bottom": null,
            "display": null,
            "flex": null,
            "flex_flow": null,
            "grid_area": null,
            "grid_auto_columns": null,
            "grid_auto_flow": null,
            "grid_auto_rows": null,
            "grid_column": null,
            "grid_gap": null,
            "grid_row": null,
            "grid_template_areas": null,
            "grid_template_columns": null,
            "grid_template_rows": null,
            "height": null,
            "justify_content": null,
            "justify_items": null,
            "left": null,
            "margin": null,
            "max_height": null,
            "max_width": null,
            "min_height": null,
            "min_width": null,
            "object_fit": null,
            "object_position": null,
            "order": null,
            "overflow": null,
            "overflow_x": null,
            "overflow_y": null,
            "padding": null,
            "right": null,
            "top": null,
            "visibility": null,
            "width": null
          }
        },
        "ae561cbea78c46ffbe904496cd5fa24e": {
          "model_module": "@jupyter-widgets/controls",
          "model_name": "DescriptionStyleModel",
          "model_module_version": "1.5.0",
          "state": {
            "_model_module": "@jupyter-widgets/controls",
            "_model_module_version": "1.5.0",
            "_model_name": "DescriptionStyleModel",
            "_view_count": null,
            "_view_module": "@jupyter-widgets/base",
            "_view_module_version": "1.2.0",
            "_view_name": "StyleView",
            "description_width": ""
          }
        }
      }
    }
  },
  "cells": [
    {
      "cell_type": "code",
      "execution_count": 1,
      "metadata": {
        "colab": {
          "base_uri": "https://localhost:8080/"
        },
        "id": "7T1EBjT7TCaA",
        "outputId": "e1cb39e1-07a5-4bd1-fdb5-27a5aefdeb53"
      },
      "outputs": [
        {
          "output_type": "stream",
          "name": "stdout",
          "text": [
            "\u001b[2K     \u001b[90m━━━━━━━━━━━━━━━━━━━━━━━━━━━━━━━━━━━━━━━━\u001b[0m \u001b[32m99.0/99.0 kB\u001b[0m \u001b[31m2.2 MB/s\u001b[0m eta \u001b[36m0:00:00\u001b[0m\n",
            "\u001b[2K     \u001b[90m━━━━━━━━━━━━━━━━━━━━━━━━━━━━━━━━━━━━━━━━\u001b[0m \u001b[32m8.9/8.9 MB\u001b[0m \u001b[31m59.6 MB/s\u001b[0m eta \u001b[36m0:00:00\u001b[0m\n",
            "\u001b[?25h"
          ]
        }
      ],
      "source": [
        "!pip -q install rectools"
      ]
    },
    {
      "cell_type": "markdown",
      "source": [
        "## Импорты"
      ],
      "metadata": {
        "id": "GZ3jZ5bxlva4"
      }
    },
    {
      "cell_type": "code",
      "source": [
        "import time\n",
        "import tqdm\n",
        "import zipfile as zf\n",
        "import requests\n",
        "import logging\n",
        "from copy import deepcopy, copy\n",
        "from typing import Dict, List, Tuple, Union, Callable, Any\n",
        "import numpy as np\n",
        "import pandas as pd\n",
        "from tqdm.auto import tqdm\n",
        "from IPython.display import display"
      ],
      "metadata": {
        "id": "p_hkuNWHTKQ5"
      },
      "execution_count": 2,
      "outputs": []
    },
    {
      "cell_type": "code",
      "source": [
        "import rectools\n",
        "from rectools.dataset import Interactions, Dataset, DenseFeatures\n",
        "from rectools.model_selection import Splitter, TimeRangeSplitter\n",
        "from rectools.models.base import ModelBase\n",
        "from rectools.models import RandomModel, PopularModel\n",
        "from rectools.metrics.base import MetricAtK\n",
        "from rectools.metrics import (\n",
        "    Precision,\n",
        "    Recall,\n",
        "    MAP,\n",
        "    NDCG,\n",
        "    Serendipity,\n",
        "    MeanInvUserFreq,\n",
        "    IntraListDiversity,\n",
        "    PairwiseHammingDistanceCalculator,\n",
        "    calc_metrics,\n",
        ")"
      ],
      "metadata": {
        "colab": {
          "base_uri": "https://localhost:8080/"
        },
        "id": "4LvOcqbdTLs2",
        "outputId": "1358aba8-8cb6-49ad-bc96-618b34afd2d4"
      },
      "execution_count": 3,
      "outputs": [
        {
          "output_type": "stream",
          "name": "stderr",
          "text": [
            "/usr/local/lib/python3.10/dist-packages/implicit/gpu/__init__.py:13: UserWarning: CUDA extension is built, but disabling GPU support because of 'Cuda Error: CUDA driver version is insufficient for CUDA runtime version (/project/./implicit/gpu/utils.h:71)'\n",
            "  warnings.warn(\n"
          ]
        }
      ]
    },
    {
      "cell_type": "markdown",
      "source": [
        "## Загрузка данных"
      ],
      "metadata": {
        "id": "yYklykrtmxD8"
      }
    },
    {
      "cell_type": "code",
      "source": [
        "url = 'https://github.com/irsafilo/KION_DATASET/raw/f69775be31fa5779907cf0a92ddedb70037fb5ae/data_original.zip'\n",
        "request = requests.get(url, stream=True)\n",
        "\n",
        "with open('kion.zip', 'wb') as fd:\n",
        "  total_sipe_in_bytes = int(request.headers.get('Content-Length', 0))\n",
        "  progress_bar = tqdm(desc='KION dataset download', total=total_sipe_in_bytes, unit='iB', unit_scale=True)\n",
        "  for chunk in request.iter_content(chunk_size= 2 ** 20):\n",
        "    progress_bar.update(len(chunk))\n",
        "    fd.write(chunk)"
      ],
      "metadata": {
        "colab": {
          "base_uri": "https://localhost:8080/",
          "height": 49,
          "referenced_widgets": [
            "0fa2f7d611e54b4aae2058f81667ca01",
            "86c403f943924066a7aa9be430aae8ff",
            "ec0142442543486fa7f7fdea99162c99",
            "572cd42d1ee2488ead371029cb09d734",
            "5a5e96af48c5418bb305678445e567e5",
            "0b4d64f703704efdacc2808d7b3700cb",
            "df3a2fc5fc6f490e96923a133b0456b3",
            "6cbed0a325854c739895de8175939e53",
            "1a392c42dc6b4f3b8c340ab240389258",
            "93b48817b3b644d4970052ff67f48d03",
            "ae561cbea78c46ffbe904496cd5fa24e"
          ]
        },
        "id": "v_HdfPMQUjnf",
        "outputId": "92c17b53-1f05-4d0c-e74a-f6a0b7b5fde4"
      },
      "execution_count": 4,
      "outputs": [
        {
          "output_type": "display_data",
          "data": {
            "text/plain": [
              "KION dataset download:   0%|          | 0.00/78.8M [00:00<?, ?iB/s]"
            ],
            "application/vnd.jupyter.widget-view+json": {
              "version_major": 2,
              "version_minor": 0,
              "model_id": "0fa2f7d611e54b4aae2058f81667ca01"
            }
          },
          "metadata": {}
        }
      ]
    },
    {
      "cell_type": "code",
      "source": [
        "files = zf.ZipFile('kion.zip', 'r')\n",
        "files.extractall()\n",
        "files.close()"
      ],
      "metadata": {
        "id": "Q7_4qcejWKh0"
      },
      "execution_count": 5,
      "outputs": []
    },
    {
      "cell_type": "code",
      "source": [
        "idf = pd.read_csv(\"/content/data_original/interactions.csv\", parse_dates=[\"last_watch_dt\"])\n",
        "idf.rename(columns={\"last_watch_dt\": rectools.Columns.Datetime, \"total_dur\": rectools.Columns.Weight}, inplace=True)\n",
        "interactions = Interactions(idf)"
      ],
      "metadata": {
        "id": "a0GAb4yhT3Sz"
      },
      "execution_count": 147,
      "outputs": []
    },
    {
      "cell_type": "markdown",
      "source": [
        "### Для удобства поместим все метрики в один объект"
      ],
      "metadata": {
        "id": "-j-_gXeB5XwX"
      }
    },
    {
      "cell_type": "code",
      "source": [
        "# В задании сказано, что нужно 6 метрик, добавляем одну самостоятельно\n",
        "def create_coverage_metric(item):\n",
        "    return item.item_id.nunique() / len(item)"
      ],
      "metadata": {
        "id": "oWz56ayOrTWv"
      },
      "execution_count": 42,
      "outputs": []
    },
    {
      "cell_type": "code",
      "source": [
        "ats = [1, 5, 10]\n",
        "metrics = { \"Precision\": Precision, \"Recall\": Recall, \"MAP\": MAP, \"NDCG\": NDCG, \"MeanInvUserFreq\": MeanInvUserFreq }\n",
        "metrics_with_thresholds = {}\n",
        "\n",
        "for name, metric in metrics.items():\n",
        "  kwargs = {}\n",
        "  if isinstance(metric, tuple):\n",
        "      kwargs.update(**metric[1])\n",
        "      metric = metric[0]\n",
        "  for at in ats:\n",
        "    metrics_with_thresholds.update({\"{}@{}\".format(name, at): metric(k=at, **kwargs)})\n",
        "\n",
        "metrics_with_thresholds.update({\"Coverage\": create_coverage_metric})\n",
        "metrics_with_thresholds"
      ],
      "metadata": {
        "colab": {
          "base_uri": "https://localhost:8080/"
        },
        "id": "sa5AxoFjrV6Q",
        "outputId": "093792ca-2859-4f4b-9c85-703f33d86aa1"
      },
      "execution_count": 121,
      "outputs": [
        {
          "output_type": "execute_result",
          "data": {
            "text/plain": [
              "{'Precision@1': Precision(k=1),\n",
              " 'Precision@5': Precision(k=5),\n",
              " 'Precision@10': Precision(k=10),\n",
              " 'Recall@1': Recall(k=1),\n",
              " 'Recall@5': Recall(k=5),\n",
              " 'Recall@10': Recall(k=10),\n",
              " 'MAP@1': MAP(k=1, divide_by_k=False),\n",
              " 'MAP@5': MAP(k=5, divide_by_k=False),\n",
              " 'MAP@10': MAP(k=10, divide_by_k=False),\n",
              " 'NDCG@1': NDCG(k=1, log_base=2),\n",
              " 'NDCG@5': NDCG(k=5, log_base=2),\n",
              " 'NDCG@10': NDCG(k=10, log_base=2),\n",
              " 'MeanInvUserFreq@1': MeanInvUserFreq(k=1),\n",
              " 'MeanInvUserFreq@5': MeanInvUserFreq(k=5),\n",
              " 'MeanInvUserFreq@10': MeanInvUserFreq(k=10),\n",
              " 'Coverage': <function __main__.create_coverage_metric(item)>}"
            ]
          },
          "metadata": {},
          "execution_count": 121
        }
      ]
    },
    {
      "cell_type": "markdown",
      "source": [
        "### Расчет метрик"
      ],
      "metadata": {
        "id": "X3T3O3Yv8NHA"
      }
    },
    {
      "cell_type": "code",
      "source": [
        "def calculate_metrics(dataset, models, metrics, splitter, k):\n",
        "\n",
        "    # Выберем K метрики\n",
        "    metrics_at_k = {k: v for k, v in metrics.items() if isinstance(v, MetricAtK)}\n",
        "\n",
        "    # Выберем coverage метрики, мы создавали их в create_coverage_metric()\n",
        "    coverage_metrics = {k: v for k, v in metrics.items() if k not in metrics_at_k}\n",
        "\n",
        "    res = []\n",
        "    interacted = Interactions(dataset)\n",
        "    splits = splitter.split(interactions)\n",
        "\n",
        "    for train_ids, test_ids, i in splits:\n",
        "\n",
        "        train = Dataset.construct(dataset.iloc[train_ids])\n",
        "        test = Dataset.construct(dataset.iloc[test_ids])\n",
        "\n",
        "        prev_interacted = train.interactions.df\n",
        "        test_interacted = test.interactions.df\n",
        "\n",
        "        # Вычисляем K метрики\n",
        "        for name, model in models.items():\n",
        "            model = deepcopy(model)\n",
        "\n",
        "            start = time.time()\n",
        "            model.fit(train)\n",
        "            end = time.time()\n",
        "\n",
        "            recommended = model.recommend(test.user_id_map.external_ids, train, k, True)\n",
        "\n",
        "            metrics = {\"model_name\": name, \"total\": end - start,\n",
        "                **calc_metrics(\n",
        "                    metrics_at_k,\n",
        "                    reco=recommended,\n",
        "                    interactions=test_interacted,\n",
        "                    prev_interactions=prev_interacted,\n",
        "                ),\n",
        "            }\n",
        "\n",
        "            # Отдельно высчитываем нами же добавленный coverage и добавляем в результат\n",
        "            for name, metric in coverage_metrics.items():\n",
        "                metrics.update({name: metric(recommended)})\n",
        "            res.append(metrics)\n",
        "\n",
        "    return res"
      ],
      "metadata": {
        "id": "S9FaG3cmeeff"
      },
      "execution_count": 139,
      "outputs": []
    },
    {
      "cell_type": "code",
      "source": [
        "splitter = rectools.model_selection.time_split.TimeRangeSplitter(\"1D\", 3)\n",
        "models = {\"RandomModel\": RandomModel(random_state=32), \"PopularModel\": PopularModel()}\n",
        "\n",
        "results = calculate_metrics(idf, models, metrics_with_thresholds, splitter, 10)"
      ],
      "metadata": {
        "id": "yFC2JxRqT4N0"
      },
      "execution_count": 140,
      "outputs": []
    },
    {
      "cell_type": "markdown",
      "source": [
        "### Визуализация метрик"
      ],
      "metadata": {
        "id": "zeRlSW9p8UcE"
      }
    },
    {
      "cell_type": "code",
      "source": [
        "pd.DataFrame(results).groupby(\"model_name\").mean()"
      ],
      "metadata": {
        "colab": {
          "base_uri": "https://localhost:8080/",
          "height": 198
        },
        "id": "pALzdCzyT4RZ",
        "outputId": "cb0207dc-f8b2-4359-e103-496add4cd163"
      },
      "execution_count": 142,
      "outputs": [
        {
          "output_type": "execute_result",
          "data": {
            "text/plain": [
              "               total  Precision@1  Recall@1  Precision@5  Recall@5  \\\n",
              "model_name                                                           \n",
              "popular     3.293556          0.0       0.0          0.0       0.0   \n",
              "random      0.000043          0.0       0.0          0.0       0.0   \n",
              "\n",
              "            Precision@10  Recall@10  NDCG@1  NDCG@5       NDCG@10  MAP@1  \\\n",
              "model_name                                                                 \n",
              "popular         0.000001   0.000003     0.0     0.0  7.181475e-07    0.0   \n",
              "random          0.000002   0.000011     0.0     0.0  1.505503e-06    0.0   \n",
              "\n",
              "            MAP@5        MAP@10  MeanInvUserFreq@1  MeanInvUserFreq@5  \\\n",
              "model_name                                                              \n",
              "popular       0.0  4.309706e-07          16.810539          16.168155   \n",
              "random        0.0  1.401207e-06          15.861961          15.860099   \n",
              "\n",
              "            MeanInvUserFreq@10  Coverage  \n",
              "model_name                                \n",
              "popular              15.207510  0.000110  \n",
              "random               15.860982  0.049638  "
            ],
            "text/html": [
              "\n",
              "  <div id=\"df-5bb47fd5-314f-4e52-8cdb-0a2d7860f97b\" class=\"colab-df-container\">\n",
              "    <div>\n",
              "<style scoped>\n",
              "    .dataframe tbody tr th:only-of-type {\n",
              "        vertical-align: middle;\n",
              "    }\n",
              "\n",
              "    .dataframe tbody tr th {\n",
              "        vertical-align: top;\n",
              "    }\n",
              "\n",
              "    .dataframe thead th {\n",
              "        text-align: right;\n",
              "    }\n",
              "</style>\n",
              "<table border=\"1\" class=\"dataframe\">\n",
              "  <thead>\n",
              "    <tr style=\"text-align: right;\">\n",
              "      <th></th>\n",
              "      <th>total</th>\n",
              "      <th>Precision@1</th>\n",
              "      <th>Recall@1</th>\n",
              "      <th>Precision@5</th>\n",
              "      <th>Recall@5</th>\n",
              "      <th>Precision@10</th>\n",
              "      <th>Recall@10</th>\n",
              "      <th>NDCG@1</th>\n",
              "      <th>NDCG@5</th>\n",
              "      <th>NDCG@10</th>\n",
              "      <th>MAP@1</th>\n",
              "      <th>MAP@5</th>\n",
              "      <th>MAP@10</th>\n",
              "      <th>MeanInvUserFreq@1</th>\n",
              "      <th>MeanInvUserFreq@5</th>\n",
              "      <th>MeanInvUserFreq@10</th>\n",
              "      <th>Coverage</th>\n",
              "    </tr>\n",
              "    <tr>\n",
              "      <th>model_name</th>\n",
              "      <th></th>\n",
              "      <th></th>\n",
              "      <th></th>\n",
              "      <th></th>\n",
              "      <th></th>\n",
              "      <th></th>\n",
              "      <th></th>\n",
              "      <th></th>\n",
              "      <th></th>\n",
              "      <th></th>\n",
              "      <th></th>\n",
              "      <th></th>\n",
              "      <th></th>\n",
              "      <th></th>\n",
              "      <th></th>\n",
              "      <th></th>\n",
              "      <th></th>\n",
              "    </tr>\n",
              "  </thead>\n",
              "  <tbody>\n",
              "    <tr>\n",
              "      <th>popular</th>\n",
              "      <td>3.293556</td>\n",
              "      <td>0.0</td>\n",
              "      <td>0.0</td>\n",
              "      <td>0.0</td>\n",
              "      <td>0.0</td>\n",
              "      <td>0.000001</td>\n",
              "      <td>0.000003</td>\n",
              "      <td>0.0</td>\n",
              "      <td>0.0</td>\n",
              "      <td>7.181475e-07</td>\n",
              "      <td>0.0</td>\n",
              "      <td>0.0</td>\n",
              "      <td>4.309706e-07</td>\n",
              "      <td>16.810539</td>\n",
              "      <td>16.168155</td>\n",
              "      <td>15.207510</td>\n",
              "      <td>0.000110</td>\n",
              "    </tr>\n",
              "    <tr>\n",
              "      <th>random</th>\n",
              "      <td>0.000043</td>\n",
              "      <td>0.0</td>\n",
              "      <td>0.0</td>\n",
              "      <td>0.0</td>\n",
              "      <td>0.0</td>\n",
              "      <td>0.000002</td>\n",
              "      <td>0.000011</td>\n",
              "      <td>0.0</td>\n",
              "      <td>0.0</td>\n",
              "      <td>1.505503e-06</td>\n",
              "      <td>0.0</td>\n",
              "      <td>0.0</td>\n",
              "      <td>1.401207e-06</td>\n",
              "      <td>15.861961</td>\n",
              "      <td>15.860099</td>\n",
              "      <td>15.860982</td>\n",
              "      <td>0.049638</td>\n",
              "    </tr>\n",
              "  </tbody>\n",
              "</table>\n",
              "</div>\n",
              "    <div class=\"colab-df-buttons\">\n",
              "\n",
              "  <div class=\"colab-df-container\">\n",
              "    <button class=\"colab-df-convert\" onclick=\"convertToInteractive('df-5bb47fd5-314f-4e52-8cdb-0a2d7860f97b')\"\n",
              "            title=\"Convert this dataframe to an interactive table.\"\n",
              "            style=\"display:none;\">\n",
              "\n",
              "  <svg xmlns=\"http://www.w3.org/2000/svg\" height=\"24px\" viewBox=\"0 -960 960 960\">\n",
              "    <path d=\"M120-120v-720h720v720H120Zm60-500h600v-160H180v160Zm220 220h160v-160H400v160Zm0 220h160v-160H400v160ZM180-400h160v-160H180v160Zm440 0h160v-160H620v160ZM180-180h160v-160H180v160Zm440 0h160v-160H620v160Z\"/>\n",
              "  </svg>\n",
              "    </button>\n",
              "\n",
              "  <style>\n",
              "    .colab-df-container {\n",
              "      display:flex;\n",
              "      gap: 12px;\n",
              "    }\n",
              "\n",
              "    .colab-df-convert {\n",
              "      background-color: #E8F0FE;\n",
              "      border: none;\n",
              "      border-radius: 50%;\n",
              "      cursor: pointer;\n",
              "      display: none;\n",
              "      fill: #1967D2;\n",
              "      height: 32px;\n",
              "      padding: 0 0 0 0;\n",
              "      width: 32px;\n",
              "    }\n",
              "\n",
              "    .colab-df-convert:hover {\n",
              "      background-color: #E2EBFA;\n",
              "      box-shadow: 0px 1px 2px rgba(60, 64, 67, 0.3), 0px 1px 3px 1px rgba(60, 64, 67, 0.15);\n",
              "      fill: #174EA6;\n",
              "    }\n",
              "\n",
              "    .colab-df-buttons div {\n",
              "      margin-bottom: 4px;\n",
              "    }\n",
              "\n",
              "    [theme=dark] .colab-df-convert {\n",
              "      background-color: #3B4455;\n",
              "      fill: #D2E3FC;\n",
              "    }\n",
              "\n",
              "    [theme=dark] .colab-df-convert:hover {\n",
              "      background-color: #434B5C;\n",
              "      box-shadow: 0px 1px 3px 1px rgba(0, 0, 0, 0.15);\n",
              "      filter: drop-shadow(0px 1px 2px rgba(0, 0, 0, 0.3));\n",
              "      fill: #FFFFFF;\n",
              "    }\n",
              "  </style>\n",
              "\n",
              "    <script>\n",
              "      const buttonEl =\n",
              "        document.querySelector('#df-5bb47fd5-314f-4e52-8cdb-0a2d7860f97b button.colab-df-convert');\n",
              "      buttonEl.style.display =\n",
              "        google.colab.kernel.accessAllowed ? 'block' : 'none';\n",
              "\n",
              "      async function convertToInteractive(key) {\n",
              "        const element = document.querySelector('#df-5bb47fd5-314f-4e52-8cdb-0a2d7860f97b');\n",
              "        const dataTable =\n",
              "          await google.colab.kernel.invokeFunction('convertToInteractive',\n",
              "                                                    [key], {});\n",
              "        if (!dataTable) return;\n",
              "\n",
              "        const docLinkHtml = 'Like what you see? Visit the ' +\n",
              "          '<a target=\"_blank\" href=https://colab.research.google.com/notebooks/data_table.ipynb>data table notebook</a>'\n",
              "          + ' to learn more about interactive tables.';\n",
              "        element.innerHTML = '';\n",
              "        dataTable['output_type'] = 'display_data';\n",
              "        await google.colab.output.renderOutput(dataTable, element);\n",
              "        const docLink = document.createElement('div');\n",
              "        docLink.innerHTML = docLinkHtml;\n",
              "        element.appendChild(docLink);\n",
              "      }\n",
              "    </script>\n",
              "  </div>\n",
              "\n",
              "\n",
              "<div id=\"df-2fbcba12-ba37-476c-a897-148a5b944b7b\">\n",
              "  <button class=\"colab-df-quickchart\" onclick=\"quickchart('df-2fbcba12-ba37-476c-a897-148a5b944b7b')\"\n",
              "            title=\"Suggest charts\"\n",
              "            style=\"display:none;\">\n",
              "\n",
              "<svg xmlns=\"http://www.w3.org/2000/svg\" height=\"24px\"viewBox=\"0 0 24 24\"\n",
              "     width=\"24px\">\n",
              "    <g>\n",
              "        <path d=\"M19 3H5c-1.1 0-2 .9-2 2v14c0 1.1.9 2 2 2h14c1.1 0 2-.9 2-2V5c0-1.1-.9-2-2-2zM9 17H7v-7h2v7zm4 0h-2V7h2v10zm4 0h-2v-4h2v4z\"/>\n",
              "    </g>\n",
              "</svg>\n",
              "  </button>\n",
              "\n",
              "<style>\n",
              "  .colab-df-quickchart {\n",
              "      --bg-color: #E8F0FE;\n",
              "      --fill-color: #1967D2;\n",
              "      --hover-bg-color: #E2EBFA;\n",
              "      --hover-fill-color: #174EA6;\n",
              "      --disabled-fill-color: #AAA;\n",
              "      --disabled-bg-color: #DDD;\n",
              "  }\n",
              "\n",
              "  [theme=dark] .colab-df-quickchart {\n",
              "      --bg-color: #3B4455;\n",
              "      --fill-color: #D2E3FC;\n",
              "      --hover-bg-color: #434B5C;\n",
              "      --hover-fill-color: #FFFFFF;\n",
              "      --disabled-bg-color: #3B4455;\n",
              "      --disabled-fill-color: #666;\n",
              "  }\n",
              "\n",
              "  .colab-df-quickchart {\n",
              "    background-color: var(--bg-color);\n",
              "    border: none;\n",
              "    border-radius: 50%;\n",
              "    cursor: pointer;\n",
              "    display: none;\n",
              "    fill: var(--fill-color);\n",
              "    height: 32px;\n",
              "    padding: 0;\n",
              "    width: 32px;\n",
              "  }\n",
              "\n",
              "  .colab-df-quickchart:hover {\n",
              "    background-color: var(--hover-bg-color);\n",
              "    box-shadow: 0 1px 2px rgba(60, 64, 67, 0.3), 0 1px 3px 1px rgba(60, 64, 67, 0.15);\n",
              "    fill: var(--button-hover-fill-color);\n",
              "  }\n",
              "\n",
              "  .colab-df-quickchart-complete:disabled,\n",
              "  .colab-df-quickchart-complete:disabled:hover {\n",
              "    background-color: var(--disabled-bg-color);\n",
              "    fill: var(--disabled-fill-color);\n",
              "    box-shadow: none;\n",
              "  }\n",
              "\n",
              "  .colab-df-spinner {\n",
              "    border: 2px solid var(--fill-color);\n",
              "    border-color: transparent;\n",
              "    border-bottom-color: var(--fill-color);\n",
              "    animation:\n",
              "      spin 1s steps(1) infinite;\n",
              "  }\n",
              "\n",
              "  @keyframes spin {\n",
              "    0% {\n",
              "      border-color: transparent;\n",
              "      border-bottom-color: var(--fill-color);\n",
              "      border-left-color: var(--fill-color);\n",
              "    }\n",
              "    20% {\n",
              "      border-color: transparent;\n",
              "      border-left-color: var(--fill-color);\n",
              "      border-top-color: var(--fill-color);\n",
              "    }\n",
              "    30% {\n",
              "      border-color: transparent;\n",
              "      border-left-color: var(--fill-color);\n",
              "      border-top-color: var(--fill-color);\n",
              "      border-right-color: var(--fill-color);\n",
              "    }\n",
              "    40% {\n",
              "      border-color: transparent;\n",
              "      border-right-color: var(--fill-color);\n",
              "      border-top-color: var(--fill-color);\n",
              "    }\n",
              "    60% {\n",
              "      border-color: transparent;\n",
              "      border-right-color: var(--fill-color);\n",
              "    }\n",
              "    80% {\n",
              "      border-color: transparent;\n",
              "      border-right-color: var(--fill-color);\n",
              "      border-bottom-color: var(--fill-color);\n",
              "    }\n",
              "    90% {\n",
              "      border-color: transparent;\n",
              "      border-bottom-color: var(--fill-color);\n",
              "    }\n",
              "  }\n",
              "</style>\n",
              "\n",
              "  <script>\n",
              "    async function quickchart(key) {\n",
              "      const quickchartButtonEl =\n",
              "        document.querySelector('#' + key + ' button');\n",
              "      quickchartButtonEl.disabled = true;  // To prevent multiple clicks.\n",
              "      quickchartButtonEl.classList.add('colab-df-spinner');\n",
              "      try {\n",
              "        const charts = await google.colab.kernel.invokeFunction(\n",
              "            'suggestCharts', [key], {});\n",
              "      } catch (error) {\n",
              "        console.error('Error during call to suggestCharts:', error);\n",
              "      }\n",
              "      quickchartButtonEl.classList.remove('colab-df-spinner');\n",
              "      quickchartButtonEl.classList.add('colab-df-quickchart-complete');\n",
              "    }\n",
              "    (() => {\n",
              "      let quickchartButtonEl =\n",
              "        document.querySelector('#df-2fbcba12-ba37-476c-a897-148a5b944b7b button');\n",
              "      quickchartButtonEl.style.display =\n",
              "        google.colab.kernel.accessAllowed ? 'block' : 'none';\n",
              "    })();\n",
              "  </script>\n",
              "</div>\n",
              "    </div>\n",
              "  </div>\n"
            ]
          },
          "metadata": {},
          "execution_count": 142
        }
      ]
    },
    {
      "cell_type": "markdown",
      "source": [
        "### Визуализация рекомендаций"
      ],
      "metadata": {
        "id": "7C_cRTQx8Z-E"
      }
    },
    {
      "cell_type": "code",
      "source": [
        "items = pd.read_csv(\"/content/data_original/items.csv\")\n",
        "interactions = pd.read_csv(\"/content/data_original/interactions.csv\")"
      ],
      "metadata": {
        "id": "Syaks240A7EO"
      },
      "execution_count": 145,
      "outputs": []
    },
    {
      "cell_type": "code",
      "source": [
        "interactions_df = pd.read_csv(\"/content/data_original/interactions.csv\", parse_dates=[\"last_watch_dt\"])\n",
        "interactions_df.rename(\n",
        "    columns={\"last_watch_dt\": rectools.Columns.Datetime, \"total_dur\": rectools.Columns.Weight}, inplace=True\n",
        ")"
      ],
      "metadata": {
        "id": "3wWafC7pHoW9"
      },
      "execution_count": 154,
      "outputs": []
    },
    {
      "cell_type": "code",
      "source": [
        "def visualize(model, dataset, ids, features, items_df):\n",
        "  # Генерим рекомендации для отобранных user_id\n",
        "  recommendations = model.recommend(ids, dataset, 3, True)\n",
        "  interactions_df = dataset.interactions.df\n",
        "  history = interactions_df[interactions_df.user_id.isin(ids)]\n",
        "\n",
        "  for id in ids:\n",
        "\n",
        "    # Получаем из датасета истории просмотров юзеров\n",
        "    history_for_id = history[history.user_id.isin([id])]\n",
        "    hist = items_df.join(history_for_id.set_index('item_id'), on='item_id')[[\"user_id\"] + features]\n",
        "    hist_for_id = hist.loc[hist['user_id'].isin([id])]\n",
        "    print(\"id {} смотрел\".format(id))\n",
        "    print(hist_for_id)\n",
        "    print('')\n",
        "\n",
        "    # Отображаем в любом удобном виде, который позволит смотреть на историю просмотра юзера + на его рекомендации от модели\n",
        "    recommendations_for_id = model.recommend(ids, dataset, 3, True)\n",
        "    rec = pd.merge(recommendations_for_id, items_df)[[\"user_id\"] + features]\n",
        "    rec_for_id = rec.loc[rec['user_id'].isin([id])]\n",
        "    print(\"id {} порекомендовали\".format(id))\n",
        "    print(rec_for_id)\n",
        "    print('---------------------------------------------------------------------------')\n",
        "    print('')"
      ],
      "metadata": {
        "id": "aSkKAlZ68fIS"
      },
      "execution_count": 200,
      "outputs": []
    },
    {
      "cell_type": "code",
      "source": [
        "model = RandomModel(random_state=32)\n",
        "dataset = Dataset.construct(interactions_df)\n",
        "model.fit(dataset)\n",
        "ids = np.array([666262, 672861, 955527])"
      ],
      "metadata": {
        "id": "my4xYmvOBfaN"
      },
      "execution_count": 201,
      "outputs": []
    },
    {
      "cell_type": "code",
      "source": [
        "visualize(model, dataset, ids, [\"title\"], items)"
      ],
      "metadata": {
        "colab": {
          "base_uri": "https://localhost:8080/"
        },
        "id": "oS7k7dK6G0E-",
        "outputId": "86e1fbe1-0e29-4683-c4b9-e7005ae5ce55"
      },
      "execution_count": 202,
      "outputs": [
        {
          "output_type": "stream",
          "name": "stdout",
          "text": [
            "id 666262 смотрел\n",
            "        user_id                 title\n",
            "11230  666262.0  Дом ночных призраков\n",
            "\n",
            "id 666262 порекомендовали\n",
            "   user_id                                         title\n",
            "0   666262                           Возвращение Будулая\n",
            "1   666262  Новые приключения Аладдина (жестовым языком)\n",
            "2   666262                             Пропавшая грамота\n",
            "---------------------------------------------------------------------------\n",
            "\n",
            "id 672861 смотрел\n",
            "        user_id                          title\n",
            "11182  672861.0                 В ритме сердца\n",
            "13578  672861.0  Медвежонок Винни и его друзья\n",
            "\n",
            "id 672861 порекомендовали\n",
            "   user_id                     title\n",
            "3   672861          Женщина в беде 3\n",
            "4   672861  Гордость и предубеждение\n",
            "5   672861                Болванчики\n",
            "---------------------------------------------------------------------------\n",
            "\n",
            "id 955527 смотрел\n",
            "       user_id        title\n",
            "8909  955527.0  Признание 5\n",
            "\n",
            "id 955527 порекомендовали\n",
            "   user_id                      title\n",
            "6   955527               Солдат Джейн\n",
            "7   955527               Спеши любить\n",
            "8   955527  Комната (жестовым языком)\n",
            "---------------------------------------------------------------------------\n",
            "\n"
          ]
        }
      ]
    }
  ]
}